{
  "nbformat": 4,
  "nbformat_minor": 0,
  "metadata": {
    "colab": {
      "name": "Assignment 8 IDL.ipynb",
      "provenance": [],
      "collapsed_sections": [
        "dlKBJMObIUzJ"
      ]
    },
    "kernelspec": {
      "name": "python3",
      "display_name": "Python 3"
    },
    "accelerator": "GPU"
  },
  "cells": [
    {
      "cell_type": "markdown",
      "metadata": {
        "id": "0RwJM_QQmsFA",
        "colab_type": "text"
      },
      "source": [
        "GROUP MEMBERS :\n",
        "1.  Aniruddh Shukla \n",
        "2. Gaurav Singhal \n",
        "3. Himanshi Bajaj \n"
      ]
    },
    {
      "cell_type": "code",
      "metadata": {
        "id": "RjWWhu1Y3hba",
        "colab_type": "code",
        "colab": {}
      },
      "source": [
        "import matplotlib.pyplot as plt\n",
        "import os\n",
        "%matplotlib inline\n",
        "import tensorflow as tf\n",
        "import numpy as np\n",
        "os.chdir(\"/content/drive/My Drive/Colab Notebooks\")"
      ],
      "execution_count": 0,
      "outputs": []
    },
    {
      "cell_type": "markdown",
      "metadata": {
        "id": "4Kgz_bELsHpp",
        "colab_type": "text"
      },
      "source": [
        "# Autoencoders for Fashion MNIST"
      ]
    },
    {
      "cell_type": "code",
      "metadata": {
        "id": "5f2NcCYv4Mdw",
        "colab_type": "code",
        "outputId": "9e9c54f3-2941-4b3b-a60f-290ad6b2f28f",
        "colab": {
          "base_uri": "https://localhost:8080/",
          "height": 221
        }
      },
      "source": [
        "fmnist = tf.keras.datasets.fashion_mnist\n",
        "(train_images, train_labels), (test_images, test_labels) = fmnist.load_data()\n",
        "print(\"Number of Training examples:\",train_images.shape[0])\n",
        "print(\"Number of in Test examples:\",test_images.shape[0])\n",
        "print(\"Train images shape:\",train_images.shape)\n",
        "# print(\"Train labels shape:\",train_labels.shape)\n",
        "print(\"Test images shape:\",test_images.shape)\n",
        "# print(\"Test labels shape:\",test_labels.shape)"
      ],
      "execution_count": 3,
      "outputs": [
        {
          "output_type": "stream",
          "text": [
            "Downloading data from https://storage.googleapis.com/tensorflow/tf-keras-datasets/train-labels-idx1-ubyte.gz\n",
            "32768/29515 [=================================] - 0s 0us/step\n",
            "Downloading data from https://storage.googleapis.com/tensorflow/tf-keras-datasets/train-images-idx3-ubyte.gz\n",
            "26427392/26421880 [==============================] - 0s 0us/step\n",
            "Downloading data from https://storage.googleapis.com/tensorflow/tf-keras-datasets/t10k-labels-idx1-ubyte.gz\n",
            "8192/5148 [===============================================] - 0s 0us/step\n",
            "Downloading data from https://storage.googleapis.com/tensorflow/tf-keras-datasets/t10k-images-idx3-ubyte.gz\n",
            "4423680/4422102 [==============================] - 0s 0us/step\n",
            "Number of Training examples: 60000\n",
            "Number of in Test examples: 10000\n",
            "Train images shape: (60000, 28, 28)\n",
            "Test images shape: (10000, 28, 28)\n"
          ],
          "name": "stdout"
        }
      ]
    },
    {
      "cell_type": "code",
      "metadata": {
        "id": "7YsqjOV7tV-P",
        "colab_type": "code",
        "colab": {}
      },
      "source": [
        "train_data = tf.data.Dataset.from_tensor_slices((train_images.astype(np.float32) / 255.0))\n",
        "train_data = train_data.batch(128)\n",
        "\n",
        "test_data = tf.data.Dataset.from_tensor_slices((test_images.astype(np.float32) / 255.0)).batch(128)"
      ],
      "execution_count": 0,
      "outputs": []
    },
    {
      "cell_type": "code",
      "metadata": {
        "id": "Hte6ls47uj7K",
        "colab_type": "code",
        "colab": {}
      },
      "source": [
        "def encoder(x):\n",
        "  # flatten_input_batch = tf.reshape(x,[-1,784])\n",
        "  encoder = tf.keras.layers.Dense(units=256,activation=tf.nn.relu, kernel_initializer='he_uniform')(x)\n",
        "  encoder = tf.keras.layers.Dense(units=128,activation=tf.nn.relu, kernel_initializer='he_uniform')(encoder)\n",
        "  encoder = tf.keras.layers.Dense(units=64,activation=tf.nn.relu, kernel_initializer='he_uniform')(encoder)\n",
        "  return encoder"
      ],
      "execution_count": 0,
      "outputs": []
    },
    {
      "cell_type": "code",
      "metadata": {
        "id": "4yEIdV_Z3Gnp",
        "colab_type": "code",
        "colab": {}
      },
      "source": [
        "def decoder(x):\n",
        "  decoder = tf.keras.layers.Dense(units=64,activation=tf.nn.relu, kernel_initializer='he_uniform')(x)\n",
        "  decoder = tf.keras.layers.Dense(units=128,activation=tf.nn.relu, kernel_initializer='he_uniform')(decoder)\n",
        "  decoder = tf.keras.layers.Dense(units=256,activation=tf.nn.relu, kernel_initializer='he_uniform')(decoder)\n",
        "  decoder = tf.keras.layers.Dense(units=784,activation=tf.nn.relu, kernel_initializer='he_uniform')(decoder)\n",
        "  return decoder"
      ],
      "execution_count": 0,
      "outputs": []
    },
    {
      "cell_type": "code",
      "metadata": {
        "id": "s8IrBIis_I7C",
        "colab_type": "code",
        "colab": {}
      },
      "source": [
        "class Autoencoder(tf.keras.Model):\n",
        "  def call(self,input_batch):\n",
        "    encoder_out = encoder(input_batch)\n",
        "    decoder_out = decoder(encoder_out)\n",
        "    return decoder_out\n",
        "autoencoder = Autoencoder()"
      ],
      "execution_count": 0,
      "outputs": []
    },
    {
      "cell_type": "code",
      "metadata": {
        "id": "S9t389_G4AwM",
        "colab_type": "code",
        "colab": {}
      },
      "source": [
        "opt = tf.optimizers.Adam(learning_rate=0.005)\n",
        "\n",
        "def loss_func(model, original):\n",
        "  reconstruction_error = tf.reduce_mean(tf.keras.losses.mean_squared_error(original,model(original)))\n",
        "  # reconstruction_error = tf.reduce_mean(tf.square(tf.subtract(model(original),original)))\n",
        "  # reconstruction_error = tf.keras.losses.binary_crossentropy(original,model(original))\n",
        "  return reconstruction_error"
      ],
      "execution_count": 0,
      "outputs": []
    },
    {
      "cell_type": "code",
      "metadata": {
        "id": "rwovJv6X5v9c",
        "colab_type": "code",
        "outputId": "5ad9a540-c080-4f20-be9c-145c999d4d6b",
        "colab": {
          "base_uri": "https://localhost:8080/",
          "height": 187
        }
      },
      "source": [
        "epochs = 5\n",
        "for epoch in range(epochs):\n",
        "  print(\"epoch number :\", epoch)\n",
        "\n",
        "  for step, input_batch in enumerate(train_data):\n",
        "    flatten_input_batch = tf.reshape(input_batch,[-1,784])\n",
        "    with tf.GradientTape() as tape:\n",
        "\n",
        "      xent = loss_func(autoencoder, flatten_input_batch)\n",
        "      \n",
        "    gradient = tape.gradient(xent,autoencoder.trainable_variables)\n",
        "    opt.apply_gradients(zip(gradient,autoencoder.trainable_variables))\n",
        "\n",
        "  print(\"Loss: {} \".format(xent))"
      ],
      "execution_count": 70,
      "outputs": [
        {
          "output_type": "stream",
          "text": [
            "epoch number : 0\n",
            "Loss: 0.24449075758457184 \n",
            "epoch number : 1\n",
            "Loss: 0.3186211585998535 \n",
            "epoch number : 2\n",
            "Loss: 0.21698515117168427 \n",
            "epoch number : 3\n",
            "Loss: 0.21948786079883575 \n",
            "epoch number : 4\n",
            "Loss: 0.2289477437734604 \n"
          ],
          "name": "stdout"
        }
      ]
    },
    {
      "cell_type": "code",
      "metadata": {
        "id": "xLiqhWTpqX3p",
        "colab_type": "code",
        "outputId": "300c6aaf-f300-49b4-e6c4-a41a02ba5295",
        "colab": {
          "base_uri": "https://localhost:8080/",
          "height": 131
        }
      },
      "source": [
        "plt.figure(figsize=(10,10))\n",
        "for i in range(5):\n",
        "  plt.subplot(1,5,i+1)\n",
        "  plt.xticks([])\n",
        "  plt.yticks([])\n",
        "  plt.grid(False)\n",
        "  plt.imshow(test_images[i].reshape(28,28), cmap='gray')\n",
        "plt.show()"
      ],
      "execution_count": 74,
      "outputs": [
        {
          "output_type": "display_data",
          "data": {
            "image/png": "[encoded data removed]",
            "text/plain": [
              "<Figure size 720x720 with 5 Axes>"
            ]
          },
          "metadata": {
            "tags": []
          }
        }
      ]
    },
    {
      "cell_type": "code",
      "metadata": {
        "id": "-ZbsD4kO6j-j",
        "colab_type": "code",
        "colab": {}
      },
      "source": [
        "reconstructed_output_t = autoencoder(test_images.reshape([-1,784]))\n",
        "reconstructed_output_t = tf.reshape(reconstructed_output_t,(reconstructed_output_t.shape[0],28,28))"
      ],
      "execution_count": 0,
      "outputs": []
    },
    {
      "cell_type": "code",
      "metadata": {
        "id": "jMgWvA5OtU7K",
        "colab_type": "code",
        "outputId": "13394840-2120-4d67-869f-450bfa0f27ed",
        "colab": {
          "base_uri": "https://localhost:8080/",
          "height": 131
        }
      },
      "source": [
        "plt.figure(figsize=(10,10))\n",
        "for i in range(5):\n",
        "  plt.subplot(1,5,i+1)\n",
        "  plt.xticks([])\n",
        "  plt.yticks([])\n",
        "  plt.grid(False)\n",
        "  plt.imshow(reconstructed_output_t[i], cmap='gray')\n",
        "plt.show()"
      ],
      "execution_count": 87,
      "outputs": [
        {
          "output_type": "display_data",
          "data": {
            "image/png": "[encoded data removed]",
            "text/plain": [
              "<Figure size 720x720 with 5 Axes>"
            ]
          },
          "metadata": {
            "tags": []
          }
        }
      ]
    },
    {
      "cell_type": "markdown",
      "metadata": {
        "id": "I_OSYeAQQbT7",
        "colab_type": "text"
      },
      "source": [
        "# Autoencoders for Fashion MNIST : Method 2 "
      ]
    },
    {
      "cell_type": "code",
      "metadata": {
        "id": "XyX0JM52QN31",
        "colab_type": "code",
        "colab": {
          "base_uri": "https://localhost:8080/",
          "height": 85
        },
        "outputId": "bb6d0208-d51d-4fe0-8e74-ea1e2526b7d3"
      },
      "source": [
        "fmnist = tf.keras.datasets.fashion_mnist\n",
        "(train_images_m, train_labels_m), (test_images_m, test_labels_m) = fmnist.load_data()\n",
        "print(\"Number of Training examples:\",train_images_m.shape[0])\n",
        "print(\"Number of in Test examples:\",test_images_m.shape[0])\n",
        "print(\"Train images shape:\",train_images_m.shape)\n",
        "# print(\"Train labels shape:\",train_labels_m.shape)\n",
        "print(\"Test images shape:\",test_images_m.shape)\n",
        "# print(\"Test labels shape:\",test_labels_m.shape)\n",
        "\n",
        "train_images_m = train_images_m.astype(np.float32) / 255.\n",
        "test_images_m = test_images_m.astype(np.float32) / 255.\n",
        "\n",
        "train_images_m = train_images_m.reshape(train_images.shape[0],784)\n",
        "test_images_m = test_images_m.reshape(test_images.shape[0],784)"
      ],
      "execution_count": 88,
      "outputs": [
        {
          "output_type": "stream",
          "text": [
            "Number of Training examples: 60000\n",
            "Number of in Test examples: 10000\n",
            "Train images shape: (60000, 28, 28)\n",
            "Test images shape: (10000, 28, 28)\n"
          ],
          "name": "stdout"
        }
      ]
    },
    {
      "cell_type": "code",
      "metadata": {
        "id": "KDGQOnxEQODy",
        "colab_type": "code",
        "colab": {}
      },
      "source": [
        "input = tf.keras.layers.Input(shape=(784,))\n",
        "encoder_mlp = tf.keras.layers.Dense(units=256,activation=tf.nn.relu, kernel_initializer='he_uniform')(input)\n",
        "encoder_mlp = tf.keras.layers.Dense(units=128,activation=tf.nn.relu, kernel_initializer='he_uniform')(encoder_mlp)\n",
        "encoder_mlp = tf.keras.layers.Dense(units=64,activation=tf.nn.relu, kernel_initializer='he_uniform')(encoder_mlp)"
      ],
      "execution_count": 0,
      "outputs": []
    },
    {
      "cell_type": "code",
      "metadata": {
        "id": "w5pXhugGQOOU",
        "colab_type": "code",
        "colab": {}
      },
      "source": [
        "decoder_mlp = tf.keras.layers.Dense(units=64,activation=tf.nn.relu, kernel_initializer='he_uniform')(encoder_mlp)\n",
        "decoder_mlp = tf.keras.layers.Dense(units=128,activation=tf.nn.relu, kernel_initializer='he_uniform')(decoder_mlp)\n",
        "decoder_mlp = tf.keras.layers.Dense(units=256,activation=tf.nn.relu, kernel_initializer='he_uniform')(decoder_mlp)\n",
        "decoder_mlp = tf.keras.layers.Dense(units=784,activation=tf.nn.relu, kernel_initializer='he_uniform')(decoder_mlp)"
      ],
      "execution_count": 0,
      "outputs": []
    },
    {
      "cell_type": "code",
      "metadata": {
        "id": "FBfnJ0zAQOZA",
        "colab_type": "code",
        "colab": {
          "base_uri": "https://localhost:8080/",
          "height": 425
        },
        "outputId": "90964a89-4c01-47bd-c833-612dc211baf6"
      },
      "source": [
        "autoencoder_mlp = tf.keras.Model(input,decoder_mlp)\n",
        "autoencoder_mlp.compile(optimizer = 'adam',loss = tf.keras.losses.mean_squared_error)\n",
        "autoencoder_mlp.summary()"
      ],
      "execution_count": 91,
      "outputs": [
        {
          "output_type": "stream",
          "text": [
            "Model: \"model_14\"\n",
            "_________________________________________________________________\n",
            "Layer (type)                 Output Shape              Param #   \n",
            "=================================================================\n",
            "input_13 (InputLayer)        [(None, 784)]             0         \n",
            "_________________________________________________________________\n",
            "dense_87 (Dense)             (None, 256)               200960    \n",
            "_________________________________________________________________\n",
            "dense_88 (Dense)             (None, 128)               32896     \n",
            "_________________________________________________________________\n",
            "dense_89 (Dense)             (None, 64)                8256      \n",
            "_________________________________________________________________\n",
            "dense_90 (Dense)             (None, 64)                4160      \n",
            "_________________________________________________________________\n",
            "dense_91 (Dense)             (None, 128)               8320      \n",
            "_________________________________________________________________\n",
            "dense_92 (Dense)             (None, 256)               33024     \n",
            "_________________________________________________________________\n",
            "dense_93 (Dense)             (None, 784)               201488    \n",
            "=================================================================\n",
            "Total params: 489,104\n",
            "Trainable params: 489,104\n",
            "Non-trainable params: 0\n",
            "_________________________________________________________________\n"
          ],
          "name": "stdout"
        }
      ]
    },
    {
      "cell_type": "code",
      "metadata": {
        "id": "Rtb61rZ1W3bR",
        "colab_type": "code",
        "colab": {}
      },
      "source": [
        "# output = train_images.reshape([-1,784])"
      ],
      "execution_count": 0,
      "outputs": []
    },
    {
      "cell_type": "code",
      "metadata": {
        "id": "5YmG8oGrQOj_",
        "colab_type": "code",
        "colab": {
          "base_uri": "https://localhost:8080/",
          "height": 714
        },
        "outputId": "9ef2ad10-2448-4376-ba4a-3ff12d615b90"
      },
      "source": [
        "autoencoder_mlp.fit(train_images_m,train_images_m,batch_size=128,epochs=20,validation_data=[test_images_m,test_images_m],shuffle=True)"
      ],
      "execution_count": 93,
      "outputs": [
        {
          "output_type": "stream",
          "text": [
            "Epoch 1/20\n",
            "469/469 [==============================] - 2s 5ms/step - loss: 0.0381 - val_loss: 0.0000e+00\n",
            "Epoch 2/20\n",
            "469/469 [==============================] - 2s 5ms/step - loss: 0.0228 - val_loss: 0.0000e+00\n",
            "Epoch 3/20\n",
            "469/469 [==============================] - 2s 5ms/step - loss: 0.0205 - val_loss: 0.0000e+00\n",
            "Epoch 4/20\n",
            "469/469 [==============================] - 2s 5ms/step - loss: 0.0190 - val_loss: 0.0000e+00\n",
            "Epoch 5/20\n",
            "469/469 [==============================] - 2s 5ms/step - loss: 0.0180 - val_loss: 0.0000e+00\n",
            "Epoch 6/20\n",
            "469/469 [==============================] - 2s 5ms/step - loss: 0.0174 - val_loss: 0.0000e+00\n",
            "Epoch 7/20\n",
            "469/469 [==============================] - 2s 5ms/step - loss: 0.0169 - val_loss: 0.0000e+00\n",
            "Epoch 8/20\n",
            "469/469 [==============================] - 2s 5ms/step - loss: 0.0165 - val_loss: 0.0000e+00\n",
            "Epoch 9/20\n",
            "469/469 [==============================] - 2s 5ms/step - loss: 0.0161 - val_loss: 0.0000e+00\n",
            "Epoch 10/20\n",
            "469/469 [==============================] - 2s 5ms/step - loss: 0.0157 - val_loss: 0.0000e+00\n",
            "Epoch 11/20\n",
            "469/469 [==============================] - 2s 5ms/step - loss: 0.0154 - val_loss: 0.0000e+00\n",
            "Epoch 12/20\n",
            "469/469 [==============================] - 2s 5ms/step - loss: 0.0151 - val_loss: 0.0000e+00\n",
            "Epoch 13/20\n",
            "469/469 [==============================] - 2s 5ms/step - loss: 0.0148 - val_loss: 0.0000e+00\n",
            "Epoch 14/20\n",
            "469/469 [==============================] - 2s 5ms/step - loss: 0.0146 - val_loss: 0.0000e+00\n",
            "Epoch 15/20\n",
            "469/469 [==============================] - 2s 5ms/step - loss: 0.0144 - val_loss: 0.0000e+00\n",
            "Epoch 16/20\n",
            "469/469 [==============================] - 2s 5ms/step - loss: 0.0143 - val_loss: 0.0000e+00\n",
            "Epoch 17/20\n",
            "469/469 [==============================] - 2s 5ms/step - loss: 0.0142 - val_loss: 0.0000e+00\n",
            "Epoch 18/20\n",
            "469/469 [==============================] - 2s 5ms/step - loss: 0.0140 - val_loss: 0.0000e+00\n",
            "Epoch 19/20\n",
            "469/469 [==============================] - 2s 5ms/step - loss: 0.0139 - val_loss: 0.0000e+00\n",
            "Epoch 20/20\n",
            "469/469 [==============================] - 2s 5ms/step - loss: 0.0137 - val_loss: 0.0000e+00\n"
          ],
          "name": "stdout"
        },
        {
          "output_type": "execute_result",
          "data": {
            "text/plain": [
              "<tensorflow.python.keras.callbacks.History at 0x7f3fc87b4c50>"
            ]
          },
          "metadata": {
            "tags": []
          },
          "execution_count": 93
        }
      ]
    },
    {
      "cell_type": "code",
      "metadata": {
        "id": "Su37s0vRQOtO",
        "colab_type": "code",
        "colab": {}
      },
      "source": [
        "decoder_out_m = autoencoder_mlp.predict(test_images_m)"
      ],
      "execution_count": 0,
      "outputs": []
    },
    {
      "cell_type": "code",
      "metadata": {
        "id": "mH6RBitZQO4r",
        "colab_type": "code",
        "colab": {
          "base_uri": "https://localhost:8080/",
          "height": 248
        },
        "outputId": "df8f19db-e646-4dea-9f9c-74076815bef9"
      },
      "source": [
        "n = 10\n",
        "plt.figure(figsize=(20,4))\n",
        "for i in range(n):\n",
        "  ax = plt.subplot(2,n,i+1)\n",
        "  plt.imshow(test_images_m[i].reshape(28,28))\n",
        "  plt.gray()\n",
        "  ax.get_xaxis().set_visible(False)\n",
        "  ax.get_yaxis().set_visible(False)\n",
        "\n",
        "  ax = plt.subplot(2,n,i+n+1)\n",
        "  plt.imshow(decoder_out_m[i].reshape(28,28))\n",
        "  plt.gray()\n",
        "  ax.get_xaxis().set_visible(False)\n",
        "  ax.get_yaxis().set_visible(False)\n",
        "plt.show()"
      ],
      "execution_count": 95,
      "outputs": [
        {
          "output_type": "display_data",
          "data": {
            "image/png": "[encoded data removed]",
            "text/plain": [
              "<Figure size 1440x288 with 20 Axes>"
            ]
          },
          "metadata": {
            "tags": [],
            "needs_background": "light"
          }
        }
      ]
    },
    {
      "cell_type": "markdown",
      "metadata": {
        "id": "dlKBJMObIUzJ",
        "colab_type": "text"
      },
      "source": [
        "# Convolutional Autoencoders"
      ]
    },
    {
      "cell_type": "code",
      "metadata": {
        "id": "PUcvxk11Qftr",
        "colab_type": "code",
        "colab": {
          "base_uri": "https://localhost:8080/",
          "height": 85
        },
        "outputId": "eeceb484-c047-49ec-ca47-5a06f52cba41"
      },
      "source": [
        "fmnist = tf.keras.datasets.fashion_mnist\n",
        "(train_images, train_labels), (test_images, test_labels) = fmnist.load_data()\n",
        "print(\"Number of Training examples:\",train_images.shape[0])\n",
        "print(\"Number of in Test examples:\",test_images.shape[0])\n",
        "print(\"Train images shape:\",train_images.shape)\n",
        "# print(\"Train labels shape:\",train_labels.shape)\n",
        "print(\"Test images shape:\",test_images.shape)\n",
        "# print(\"Test labels shape:\",test_labels.shape)\n",
        "\n",
        "train_images = train_images.astype(np.float32) / 255.\n",
        "test_images = test_images.astype(np.float32) / 255.\n",
        "\n",
        "train_images = train_images.reshape(train_images.shape[0],28,28,1)\n",
        "test_images = test_images.reshape(test_images.shape[0],28,28,1)"
      ],
      "execution_count": 65,
      "outputs": [
        {
          "output_type": "stream",
          "text": [
            "Number of Training examples: 60000\n",
            "Number of in Test examples: 10000\n",
            "Train images shape: (60000, 28, 28)\n",
            "Test images shape: (10000, 28, 28)\n"
          ],
          "name": "stdout"
        }
      ]
    },
    {
      "cell_type": "code",
      "metadata": {
        "id": "mItoaUqaYyqi",
        "colab_type": "code",
        "colab": {}
      },
      "source": [
        "input = tf.keras.layers.Input(shape=(28,28,1))\n",
        "encoder = tf.keras.layers.Conv2D(filters=32,kernel_size=(3,3),activation='relu',padding='same')(input)\n",
        "encoder = tf.keras.layers.MaxPool2D(pool_size=(2,2))(encoder)\n",
        "\n",
        "encoder = tf.keras.layers.Conv2D(filters=16,kernel_size=(3,3),activation='relu',padding='same')(encoder)\n",
        "encoder = tf.keras.layers.MaxPool2D(pool_size=(2,2))(encoder)\n",
        "\n",
        "encoder = tf.keras.layers.Conv2D(filters=8,kernel_size=(3,3),activation='relu',padding='same')(encoder)\n",
        "encoder = tf.keras.layers.MaxPool2D(pool_size=(2,2))(encoder)"
      ],
      "execution_count": 0,
      "outputs": []
    },
    {
      "cell_type": "code",
      "metadata": {
        "id": "GYG8jsTif-mb",
        "colab_type": "code",
        "colab": {}
      },
      "source": [
        "decoder = tf.keras.layers.Conv2D(filters=8,kernel_size=(3,3),activation='relu',padding='same')(encoder)\n",
        "decoder = tf.keras.layers.UpSampling2D(size=(3,3))(decoder)\n",
        "\n",
        "decoder = tf.keras.layers.Conv2D(filters=16,kernel_size=(3,3),activation='relu',padding='valid')(decoder)\n",
        "decoder = tf.keras.layers.UpSampling2D(size=(2,2))(decoder)\n",
        "\n",
        "decoder = tf.keras.layers.Conv2D(filters=32,kernel_size=(3,3),activation='relu',padding='same')(decoder)\n",
        "decoder = tf.keras.layers.UpSampling2D(size=(2,2))(decoder)\n",
        "\n",
        "decoder = tf.keras.layers.Conv2D(filters=1,kernel_size=(3,3),activation='sigmoid',padding='same')(decoder)"
      ],
      "execution_count": 0,
      "outputs": []
    },
    {
      "cell_type": "code",
      "metadata": {
        "id": "Swi4vF2LhHwd",
        "colab_type": "code",
        "colab": {
          "base_uri": "https://localhost:8080/",
          "height": 629
        },
        "outputId": "174163c9-34ab-4da9-da5b-942269cd584a"
      },
      "source": [
        "autoencoder_conv = tf.keras.Model(input,decoder)\n",
        "autoencoder_conv.compile(optimizer = 'adam',loss = tf.keras.losses.mean_squared_error)\n",
        "autoencoder_conv.summary()"
      ],
      "execution_count": 68,
      "outputs": [
        {
          "output_type": "stream",
          "text": [
            "Model: \"model_12\"\n",
            "_________________________________________________________________\n",
            "Layer (type)                 Output Shape              Param #   \n",
            "=================================================================\n",
            "input_11 (InputLayer)        [(None, 28, 28, 1)]       0         \n",
            "_________________________________________________________________\n",
            "conv2d (Conv2D)              (None, 28, 28, 32)        320       \n",
            "_________________________________________________________________\n",
            "max_pooling2d (MaxPooling2D) (None, 14, 14, 32)        0         \n",
            "_________________________________________________________________\n",
            "conv2d_1 (Conv2D)            (None, 14, 14, 16)        4624      \n",
            "_________________________________________________________________\n",
            "max_pooling2d_1 (MaxPooling2 (None, 7, 7, 16)          0         \n",
            "_________________________________________________________________\n",
            "conv2d_2 (Conv2D)            (None, 7, 7, 8)           1160      \n",
            "_________________________________________________________________\n",
            "max_pooling2d_2 (MaxPooling2 (None, 3, 3, 8)           0         \n",
            "_________________________________________________________________\n",
            "conv2d_3 (Conv2D)            (None, 3, 3, 8)           584       \n",
            "_________________________________________________________________\n",
            "up_sampling2d (UpSampling2D) (None, 9, 9, 8)           0         \n",
            "_________________________________________________________________\n",
            "conv2d_4 (Conv2D)            (None, 7, 7, 16)          1168      \n",
            "_________________________________________________________________\n",
            "up_sampling2d_1 (UpSampling2 (None, 14, 14, 16)        0         \n",
            "_________________________________________________________________\n",
            "conv2d_5 (Conv2D)            (None, 14, 14, 32)        4640      \n",
            "_________________________________________________________________\n",
            "up_sampling2d_2 (UpSampling2 (None, 28, 28, 32)        0         \n",
            "_________________________________________________________________\n",
            "conv2d_6 (Conv2D)            (None, 28, 28, 1)         289       \n",
            "=================================================================\n",
            "Total params: 12,785\n",
            "Trainable params: 12,785\n",
            "Non-trainable params: 0\n",
            "_________________________________________________________________\n"
          ],
          "name": "stdout"
        }
      ]
    },
    {
      "cell_type": "code",
      "metadata": {
        "id": "aFqCxGNGiqb1",
        "colab_type": "code",
        "colab": {
          "base_uri": "https://localhost:8080/",
          "height": 714
        },
        "outputId": "197a4283-4605-456c-a3d9-a79abfb3532e"
      },
      "source": [
        "autoencoder_conv.fit(train_images,train_images,batch_size=128,epochs=20,validation_data=(test_images,test_images),shuffle=True)"
      ],
      "execution_count": 69,
      "outputs": [
        {
          "output_type": "stream",
          "text": [
            "Epoch 1/20\n",
            "469/469 [==============================] - 6s 13ms/step - loss: 0.0379 - val_loss: 0.0250\n",
            "Epoch 2/20\n",
            "469/469 [==============================] - 6s 12ms/step - loss: 0.0230 - val_loss: 0.0215\n",
            "Epoch 3/20\n",
            "469/469 [==============================] - 6s 12ms/step - loss: 0.0206 - val_loss: 0.0198\n",
            "Epoch 4/20\n",
            "469/469 [==============================] - 6s 12ms/step - loss: 0.0192 - val_loss: 0.0189\n",
            "Epoch 5/20\n",
            "469/469 [==============================] - 6s 12ms/step - loss: 0.0184 - val_loss: 0.0180\n",
            "Epoch 6/20\n",
            "469/469 [==============================] - 6s 12ms/step - loss: 0.0178 - val_loss: 0.0175\n",
            "Epoch 7/20\n",
            "469/469 [==============================] - 6s 12ms/step - loss: 0.0173 - val_loss: 0.0171\n",
            "Epoch 8/20\n",
            "469/469 [==============================] - 6s 12ms/step - loss: 0.0170 - val_loss: 0.0169\n",
            "Epoch 9/20\n",
            "469/469 [==============================] - 6s 12ms/step - loss: 0.0167 - val_loss: 0.0167\n",
            "Epoch 10/20\n",
            "469/469 [==============================] - 6s 12ms/step - loss: 0.0164 - val_loss: 0.0165\n",
            "Epoch 11/20\n",
            "469/469 [==============================] - 6s 12ms/step - loss: 0.0162 - val_loss: 0.0160\n",
            "Epoch 12/20\n",
            "469/469 [==============================] - 6s 12ms/step - loss: 0.0160 - val_loss: 0.0158\n",
            "Epoch 13/20\n",
            "469/469 [==============================] - 6s 12ms/step - loss: 0.0158 - val_loss: 0.0157\n",
            "Epoch 14/20\n",
            "469/469 [==============================] - 6s 13ms/step - loss: 0.0156 - val_loss: 0.0155\n",
            "Epoch 15/20\n",
            "469/469 [==============================] - 6s 12ms/step - loss: 0.0154 - val_loss: 0.0155\n",
            "Epoch 16/20\n",
            "469/469 [==============================] - 6s 12ms/step - loss: 0.0153 - val_loss: 0.0152\n",
            "Epoch 17/20\n",
            "469/469 [==============================] - 6s 12ms/step - loss: 0.0152 - val_loss: 0.0151\n",
            "Epoch 18/20\n",
            "469/469 [==============================] - 6s 12ms/step - loss: 0.0150 - val_loss: 0.0152\n",
            "Epoch 19/20\n",
            "469/469 [==============================] - 6s 12ms/step - loss: 0.0149 - val_loss: 0.0149\n",
            "Epoch 20/20\n",
            "469/469 [==============================] - 6s 12ms/step - loss: 0.0148 - val_loss: 0.0147\n"
          ],
          "name": "stdout"
        },
        {
          "output_type": "execute_result",
          "data": {
            "text/plain": [
              "<tensorflow.python.keras.callbacks.History at 0x7f3fd0e620f0>"
            ]
          },
          "metadata": {
            "tags": []
          },
          "execution_count": 69
        }
      ]
    },
    {
      "cell_type": "code",
      "metadata": {
        "id": "uWyWetXQvqxe",
        "colab_type": "code",
        "colab": {}
      },
      "source": [
        "decoder_out_conv = autoencoder_conv.predict(test_images)"
      ],
      "execution_count": 0,
      "outputs": []
    },
    {
      "cell_type": "code",
      "metadata": {
        "id": "P8NlqRoNwCLT",
        "colab_type": "code",
        "colab": {
          "base_uri": "https://localhost:8080/",
          "height": 248
        },
        "outputId": "7fa76283-12da-4924-e5f7-a8f425b47123"
      },
      "source": [
        "n = 10\n",
        "plt.figure(figsize=(20,4))\n",
        "for i in range(n):\n",
        "  ax = plt.subplot(2,n,i+1)\n",
        "  plt.imshow(test_images[i].reshape(28,28))\n",
        "  plt.gray()\n",
        "  ax.get_xaxis().set_visible(False)\n",
        "  ax.get_yaxis().set_visible(False)\n",
        "\n",
        "  ax = plt.subplot(2,n,i+n+1)\n",
        "  plt.imshow(decoder_out_conv[i].reshape(28,28))\n",
        "  plt.gray()\n",
        "  ax.get_xaxis().set_visible(False)\n",
        "  ax.get_yaxis().set_visible(False)\n",
        "plt.show()"
      ],
      "execution_count": 71,
      "outputs": [
        {
          "output_type": "display_data",
          "data": {
            "image/png": "[encoded data removed]",
            "text/plain": [
              "<Figure size 1440x288 with 20 Axes>"
            ]
          },
          "metadata": {
            "tags": [],
            "needs_background": "light"
          }
        }
      ]
    },
    {
      "cell_type": "code",
      "metadata": {
        "id": "eyGSkH8tKTDc",
        "colab_type": "code",
        "colab": {}
      },
      "source": [
        "autoencoder_conv.save_weights('autoencoder_conv.h5')"
      ],
      "execution_count": 0,
      "outputs": []
    },
    {
      "cell_type": "markdown",
      "metadata": {
        "id": "hfycd-m3ZiUj",
        "colab_type": "text"
      },
      "source": [
        "# What do Autoencoders Learn?"
      ]
    },
    {
      "cell_type": "code",
      "metadata": {
        "id": "KmIUvRNeaFD-",
        "colab_type": "code",
        "colab": {
          "base_uri": "https://localhost:8080/",
          "height": 173
        },
        "outputId": "39d05ed0-16f1-44fc-c806-c4187add8a4e"
      },
      "source": [
        "weights_mlp = []\n",
        "for layer in autoencoder_mlp.layers:\n",
        "  print(layer.get_config())\n",
        "  # print(layer.get_weights())\n",
        "  weights_mlp.append(layer.get_weights())"
      ],
      "execution_count": 152,
      "outputs": [
        {
          "output_type": "stream",
          "text": [
            "{'batch_input_shape': (None, 784), 'dtype': 'float32', 'sparse': False, 'ragged': False, 'name': 'input_13'}\n",
            "{'name': 'dense_87', 'trainable': True, 'dtype': 'float32', 'units': 256, 'activation': 'relu', 'use_bias': True, 'kernel_initializer': {'class_name': 'VarianceScaling', 'config': {'scale': 2.0, 'mode': 'fan_in', 'distribution': 'uniform', 'seed': None}}, 'bias_initializer': {'class_name': 'Zeros', 'config': {}}, 'kernel_regularizer': None, 'bias_regularizer': None, 'activity_regularizer': None, 'kernel_constraint': None, 'bias_constraint': None}\n",
            "{'name': 'dense_88', 'trainable': True, 'dtype': 'float32', 'units': 128, 'activation': 'relu', 'use_bias': True, 'kernel_initializer': {'class_name': 'VarianceScaling', 'config': {'scale': 2.0, 'mode': 'fan_in', 'distribution': 'uniform', 'seed': None}}, 'bias_initializer': {'class_name': 'Zeros', 'config': {}}, 'kernel_regularizer': None, 'bias_regularizer': None, 'activity_regularizer': None, 'kernel_constraint': None, 'bias_constraint': None}\n",
            "{'name': 'dense_89', 'trainable': True, 'dtype': 'float32', 'units': 64, 'activation': 'relu', 'use_bias': True, 'kernel_initializer': {'class_name': 'VarianceScaling', 'config': {'scale': 2.0, 'mode': 'fan_in', 'distribution': 'uniform', 'seed': None}}, 'bias_initializer': {'class_name': 'Zeros', 'config': {}}, 'kernel_regularizer': None, 'bias_regularizer': None, 'activity_regularizer': None, 'kernel_constraint': None, 'bias_constraint': None}\n",
            "{'name': 'dense_90', 'trainable': True, 'dtype': 'float32', 'units': 64, 'activation': 'relu', 'use_bias': True, 'kernel_initializer': {'class_name': 'VarianceScaling', 'config': {'scale': 2.0, 'mode': 'fan_in', 'distribution': 'uniform', 'seed': None}}, 'bias_initializer': {'class_name': 'Zeros', 'config': {}}, 'kernel_regularizer': None, 'bias_regularizer': None, 'activity_regularizer': None, 'kernel_constraint': None, 'bias_constraint': None}\n",
            "{'name': 'dense_91', 'trainable': True, 'dtype': 'float32', 'units': 128, 'activation': 'relu', 'use_bias': True, 'kernel_initializer': {'class_name': 'VarianceScaling', 'config': {'scale': 2.0, 'mode': 'fan_in', 'distribution': 'uniform', 'seed': None}}, 'bias_initializer': {'class_name': 'Zeros', 'config': {}}, 'kernel_regularizer': None, 'bias_regularizer': None, 'activity_regularizer': None, 'kernel_constraint': None, 'bias_constraint': None}\n",
            "{'name': 'dense_92', 'trainable': True, 'dtype': 'float32', 'units': 256, 'activation': 'relu', 'use_bias': True, 'kernel_initializer': {'class_name': 'VarianceScaling', 'config': {'scale': 2.0, 'mode': 'fan_in', 'distribution': 'uniform', 'seed': None}}, 'bias_initializer': {'class_name': 'Zeros', 'config': {}}, 'kernel_regularizer': None, 'bias_regularizer': None, 'activity_regularizer': None, 'kernel_constraint': None, 'bias_constraint': None}\n",
            "{'name': 'dense_93', 'trainable': True, 'dtype': 'float32', 'units': 784, 'activation': 'relu', 'use_bias': True, 'kernel_initializer': {'class_name': 'VarianceScaling', 'config': {'scale': 2.0, 'mode': 'fan_in', 'distribution': 'uniform', 'seed': None}}, 'bias_initializer': {'class_name': 'Zeros', 'config': {}}, 'kernel_regularizer': None, 'bias_regularizer': None, 'activity_regularizer': None, 'kernel_constraint': None, 'bias_constraint': None}\n"
          ],
          "name": "stdout"
        }
      ]
    },
    {
      "cell_type": "code",
      "metadata": {
        "id": "EPdwENRsl1xw",
        "colab_type": "code",
        "colab": {
          "base_uri": "https://localhost:8080/",
          "height": 51
        },
        "outputId": "3056ed93-b361-427a-edc5-dd7664d535cf"
      },
      "source": [
        "layer_one_encoder_mlp_weights = weights_mlp[1][0]\n",
        "layer_last_decoder_mlp_weights = weights_mlp[7][0]\n",
        "\n",
        "print(layer_one_encoder_mlp_weights.shape)\n",
        "print(layer_last_decoder_mlp_weights.shape)"
      ],
      "execution_count": 153,
      "outputs": [
        {
          "output_type": "stream",
          "text": [
            "(784, 256)\n",
            "(256, 784)\n"
          ],
          "name": "stdout"
        }
      ]
    },
    {
      "cell_type": "code",
      "metadata": {
        "id": "h_fdeM6wr9hy",
        "colab_type": "code",
        "colab": {}
      },
      "source": [
        "encoder_img = np.reshape(layer_one_encoder_mlp_weights[:,0],(28,28))\n",
        "decoder_img = np.reshape(layer_last_decoder_mlp_weights[0,:],(28,28))"
      ],
      "execution_count": 0,
      "outputs": []
    },
    {
      "cell_type": "code",
      "metadata": {
        "id": "_AiAZkCLwhKY",
        "colab_type": "code",
        "colab": {
          "base_uri": "https://localhost:8080/",
          "height": 282
        },
        "outputId": "c7774d39-2edb-4e95-c588-afaeaa1d5d22"
      },
      "source": [
        "plt.imshow(encoder_img,cmap=plt.cm.binary)"
      ],
      "execution_count": 155,
      "outputs": [
        {
          "output_type": "execute_result",
          "data": {
            "text/plain": [
              "<matplotlib.image.AxesImage at 0x7f3fca6b47b8>"
            ]
          },
          "metadata": {
            "tags": []
          },
          "execution_count": 155
        },
        {
          "output_type": "display_data",
          "data": {
            "image/png": "[encoded data removed]",
            "text/plain": [
              "<Figure size 432x288 with 1 Axes>"
            ]
          },
          "metadata": {
            "tags": [],
            "needs_background": "light"
          }
        }
      ]
    },
    {
      "cell_type": "code",
      "metadata": {
        "id": "xkHNfA4cw2gZ",
        "colab_type": "code",
        "colab": {
          "base_uri": "https://localhost:8080/",
          "height": 282
        },
        "outputId": "0396dd54-52ed-4514-8cf3-1206ed3cbada"
      },
      "source": [
        "plt.imshow(np.reshape(layer_one_encoder_mlp_weights[:,5],(28,28)),cmap=plt.cm.binary)"
      ],
      "execution_count": 156,
      "outputs": [
        {
          "output_type": "execute_result",
          "data": {
            "text/plain": [
              "<matplotlib.image.AxesImage at 0x7f3fcf4b2898>"
            ]
          },
          "metadata": {
            "tags": []
          },
          "execution_count": 156
        },
        {
          "output_type": "display_data",
          "data": {
            "image/png": "[encoded data removed]",
            "text/plain": [
              "<Figure size 432x288 with 1 Axes>"
            ]
          },
          "metadata": {
            "tags": [],
            "needs_background": "light"
          }
        }
      ]
    },
    {
      "cell_type": "code",
      "metadata": {
        "id": "-m5pg5OsxvNd",
        "colab_type": "code",
        "colab": {
          "base_uri": "https://localhost:8080/",
          "height": 282
        },
        "outputId": "cf217d0f-bc3b-450c-85c4-17d73a923bb4"
      },
      "source": [
        "plt.imshow(np.reshape(layer_last_decoder_mlp_weights[5,:],(28,28)),cmap=plt.cm.binary)"
      ],
      "execution_count": 157,
      "outputs": [
        {
          "output_type": "execute_result",
          "data": {
            "text/plain": [
              "<matplotlib.image.AxesImage at 0x7f3fcf517320>"
            ]
          },
          "metadata": {
            "tags": []
          },
          "execution_count": 157
        },
        {
          "output_type": "display_data",
          "data": {
            "image/png": "[encoded data removed]",
            "text/plain": [
              "<Figure size 432x288 with 1 Axes>"
            ]
          },
          "metadata": {
            "tags": [],
            "needs_background": "light"
          }
        }
      ]
    },
    {
      "cell_type": "code",
      "metadata": {
        "id": "_EBQsgJQB6uT",
        "colab_type": "code",
        "colab": {}
      },
      "source": [
        "# weights_conv = []\n",
        "# for layer in autoencoder_conv.layers:\n",
        "#   print(layer.get_config())\n",
        "#   # print(layer.get_weights())\n",
        "#   weights_conv.append(layer.get_weights())"
      ],
      "execution_count": 0,
      "outputs": []
    },
    {
      "cell_type": "markdown",
      "metadata": {
        "id": "qkXHp1m4LCg7",
        "colab_type": "text"
      },
      "source": [
        "# Unsupervised Pretraining"
      ]
    },
    {
      "cell_type": "code",
      "metadata": {
        "id": "gzGhhpJkLHNd",
        "colab_type": "code",
        "colab": {}
      },
      "source": [
        "train_labels_one_hot = tf.one_hot(train_labels,depth=10)\n",
        "test_labels_one_hot = tf.one_hot(test_labels,depth=10)\n",
        "\n",
        "# train_labels_one_hot[0]\n",
        "# test_labels_one_hot[1]"
      ],
      "execution_count": 0,
      "outputs": []
    },
    {
      "cell_type": "code",
      "metadata": {
        "id": "Oc5HYRWfNtG-",
        "colab_type": "code",
        "colab": {}
      },
      "source": [
        "input = tf.keras.layers.Input(shape=(28,28,1))\n",
        "encoder = tf.keras.layers.Conv2D(filters=32,kernel_size=(3,3),activation='relu',padding='same')(input)\n",
        "encoder = tf.keras.layers.MaxPool2D(pool_size=(2,2))(encoder)\n",
        "\n",
        "encoder = tf.keras.layers.Conv2D(filters=16,kernel_size=(3,3),activation='relu',padding='same')(encoder)\n",
        "encoder = tf.keras.layers.MaxPool2D(pool_size=(2,2))(encoder)\n",
        "\n",
        "encoder = tf.keras.layers.Conv2D(filters=8,kernel_size=(3,3),activation='relu',padding='same')(encoder)\n",
        "encoder = tf.keras.layers.MaxPool2D(pool_size=(2,2))(encoder)\n",
        "\n",
        "fc = tf.keras.layers.Flatten()(encoder)\n",
        "dense = tf.keras.layers.Dense(128,activation='relu')(fc)\n",
        "out = tf.keras.layers.Dense(10,activation='softmax')(dense)"
      ],
      "execution_count": 0,
      "outputs": []
    },
    {
      "cell_type": "code",
      "metadata": {
        "id": "E67cqzDyOPSc",
        "colab_type": "code",
        "colab": {}
      },
      "source": [
        "model_pre = tf.keras.Model(input,out)"
      ],
      "execution_count": 0,
      "outputs": []
    },
    {
      "cell_type": "code",
      "metadata": {
        "id": "hH0-FZ_QVqdE",
        "colab_type": "code",
        "colab": {}
      },
      "source": [
        "model_pre.compile(loss=tf.keras.losses.categorical_crossentropy, optimizer=tf.keras.optimizers.Adam(),metrics=['accuracy'])"
      ],
      "execution_count": 0,
      "outputs": []
    },
    {
      "cell_type": "code",
      "metadata": {
        "id": "7o63mr3SWiXl",
        "colab_type": "code",
        "colab": {
          "base_uri": "https://localhost:8080/",
          "height": 493
        },
        "outputId": "f4cf8576-30bf-41d0-9874-04d8ce06f114"
      },
      "source": [
        "model_pre.summary()"
      ],
      "execution_count": 201,
      "outputs": [
        {
          "output_type": "stream",
          "text": [
            "Model: \"model_15\"\n",
            "_________________________________________________________________\n",
            "Layer (type)                 Output Shape              Param #   \n",
            "=================================================================\n",
            "input_15 (InputLayer)        [(None, 28, 28, 1)]       0         \n",
            "_________________________________________________________________\n",
            "conv2d_10 (Conv2D)           (None, 28, 28, 32)        320       \n",
            "_________________________________________________________________\n",
            "max_pooling2d_6 (MaxPooling2 (None, 14, 14, 32)        0         \n",
            "_________________________________________________________________\n",
            "conv2d_11 (Conv2D)           (None, 14, 14, 16)        4624      \n",
            "_________________________________________________________________\n",
            "max_pooling2d_7 (MaxPooling2 (None, 7, 7, 16)          0         \n",
            "_________________________________________________________________\n",
            "conv2d_12 (Conv2D)           (None, 7, 7, 8)           1160      \n",
            "_________________________________________________________________\n",
            "max_pooling2d_8 (MaxPooling2 (None, 3, 3, 8)           0         \n",
            "_________________________________________________________________\n",
            "flatten_6 (Flatten)          (None, 72)                0         \n",
            "_________________________________________________________________\n",
            "dense_94 (Dense)             (None, 128)               9344      \n",
            "_________________________________________________________________\n",
            "dense_95 (Dense)             (None, 10)                1290      \n",
            "=================================================================\n",
            "Total params: 16,738\n",
            "Trainable params: 16,738\n",
            "Non-trainable params: 0\n",
            "_________________________________________________________________\n"
          ],
          "name": "stdout"
        }
      ]
    },
    {
      "cell_type": "code",
      "metadata": {
        "id": "DqJAKQt6WoW_",
        "colab_type": "code",
        "colab": {
          "base_uri": "https://localhost:8080/",
          "height": 697
        },
        "outputId": "0960dea0-f5c6-4783-a99c-ab5b2913221d"
      },
      "source": [
        "classify_train_images = model_pre.fit(train_images, train_labels_one_hot, batch_size=128,epochs=20,validation_data=(test_images, test_labels_one_hot))"
      ],
      "execution_count": 202,
      "outputs": [
        {
          "output_type": "stream",
          "text": [
            "Epoch 1/20\n",
            "469/469 [==============================] - 5s 10ms/step - loss: 0.7290 - accuracy: 0.7340 - val_loss: 0.5325 - val_accuracy: 0.8072\n",
            "Epoch 2/20\n",
            "469/469 [==============================] - 4s 9ms/step - loss: 0.4652 - accuracy: 0.8308 - val_loss: 0.4325 - val_accuracy: 0.8409\n",
            "Epoch 3/20\n",
            "469/469 [==============================] - 4s 9ms/step - loss: 0.4004 - accuracy: 0.8530 - val_loss: 0.4036 - val_accuracy: 0.8516\n",
            "Epoch 4/20\n",
            "469/469 [==============================] - 4s 9ms/step - loss: 0.3688 - accuracy: 0.8656 - val_loss: 0.3707 - val_accuracy: 0.8631\n",
            "Epoch 5/20\n",
            "469/469 [==============================] - 4s 9ms/step - loss: 0.3454 - accuracy: 0.8729 - val_loss: 0.3697 - val_accuracy: 0.8595\n",
            "Epoch 6/20\n",
            "469/469 [==============================] - 4s 9ms/step - loss: 0.3325 - accuracy: 0.8786 - val_loss: 0.3516 - val_accuracy: 0.8713\n",
            "Epoch 7/20\n",
            "469/469 [==============================] - 4s 9ms/step - loss: 0.3166 - accuracy: 0.8849 - val_loss: 0.3463 - val_accuracy: 0.8719\n",
            "Epoch 8/20\n",
            "469/469 [==============================] - 4s 9ms/step - loss: 0.3049 - accuracy: 0.8884 - val_loss: 0.3291 - val_accuracy: 0.8788\n",
            "Epoch 9/20\n",
            "469/469 [==============================] - 4s 9ms/step - loss: 0.2966 - accuracy: 0.8913 - val_loss: 0.3183 - val_accuracy: 0.8864\n",
            "Epoch 10/20\n",
            "469/469 [==============================] - 4s 9ms/step - loss: 0.2851 - accuracy: 0.8965 - val_loss: 0.3259 - val_accuracy: 0.8784\n",
            "Epoch 11/20\n",
            "469/469 [==============================] - 4s 9ms/step - loss: 0.2791 - accuracy: 0.8974 - val_loss: 0.3130 - val_accuracy: 0.8850\n",
            "Epoch 12/20\n",
            "469/469 [==============================] - 4s 9ms/step - loss: 0.2701 - accuracy: 0.9010 - val_loss: 0.2983 - val_accuracy: 0.8888\n",
            "Epoch 13/20\n",
            "469/469 [==============================] - 4s 9ms/step - loss: 0.2645 - accuracy: 0.9030 - val_loss: 0.3070 - val_accuracy: 0.8855\n",
            "Epoch 14/20\n",
            "469/469 [==============================] - 4s 9ms/step - loss: 0.2597 - accuracy: 0.9054 - val_loss: 0.2894 - val_accuracy: 0.8919\n",
            "Epoch 15/20\n",
            "469/469 [==============================] - 4s 9ms/step - loss: 0.2515 - accuracy: 0.9077 - val_loss: 0.2968 - val_accuracy: 0.8907\n",
            "Epoch 16/20\n",
            "469/469 [==============================] - 4s 9ms/step - loss: 0.2502 - accuracy: 0.9076 - val_loss: 0.2845 - val_accuracy: 0.8956\n",
            "Epoch 17/20\n",
            "469/469 [==============================] - 4s 9ms/step - loss: 0.2448 - accuracy: 0.9101 - val_loss: 0.2854 - val_accuracy: 0.8957\n",
            "Epoch 18/20\n",
            "469/469 [==============================] - 4s 9ms/step - loss: 0.2410 - accuracy: 0.9106 - val_loss: 0.3063 - val_accuracy: 0.8865\n",
            "Epoch 19/20\n",
            "469/469 [==============================] - 4s 9ms/step - loss: 0.2363 - accuracy: 0.9117 - val_loss: 0.2864 - val_accuracy: 0.8956\n",
            "Epoch 20/20\n",
            "469/469 [==============================] - 4s 9ms/step - loss: 0.2305 - accuracy: 0.9145 - val_loss: 0.2815 - val_accuracy: 0.8964\n"
          ],
          "name": "stdout"
        }
      ]
    },
    {
      "cell_type": "code",
      "metadata": {
        "id": "qV2hlMREZfaw",
        "colab_type": "code",
        "colab": {
          "base_uri": "https://localhost:8080/",
          "height": 34
        },
        "outputId": "101a7a60-2622-4c0b-9197-ad01cb599874"
      },
      "source": [
        "test_evaluation = model_pre.evaluate(test_images, test_labels_one_hot)"
      ],
      "execution_count": 204,
      "outputs": [
        {
          "output_type": "stream",
          "text": [
            "313/313 [==============================] - 1s 4ms/step - loss: 0.2815 - accuracy: 0.8964\n"
          ],
          "name": "stdout"
        }
      ]
    },
    {
      "cell_type": "code",
      "metadata": {
        "id": "5SGUYgf3bJ4T",
        "colab_type": "code",
        "colab": {}
      },
      "source": [
        "class_predicted = model_pre.predict(test_images)\n",
        "class_predicted = np.argmax(np.round(class_predicted),axis=1)"
      ],
      "execution_count": 0,
      "outputs": []
    },
    {
      "cell_type": "code",
      "metadata": {
        "id": "tLyE-If3bieC",
        "colab_type": "code",
        "colab": {
          "base_uri": "https://localhost:8080/",
          "height": 314
        },
        "outputId": "d64cab50-1b87-41da-d822-bf620ae96770"
      },
      "source": [
        "correct_index = np.where(class_predicted==test_labels)[0]\n",
        "print (\"Found %d correct labels\" % len(correct_index))\n",
        "for i, correct_index in enumerate(correct_index[:9]):\n",
        "    plt.subplot(3,3,i+1)\n",
        "    plt.imshow(test_images[correct_index].reshape(28,28), cmap='gray', interpolation='none')\n",
        "    plt.title(\"Predicted {}, Class {}\".format(class_predicted[correct_index], test_labels[correct_index]))\n",
        "    plt.tight_layout()"
      ],
      "execution_count": 210,
      "outputs": [
        {
          "output_type": "stream",
          "text": [
            "Found 8882 correct labels\n"
          ],
          "name": "stdout"
        },
        {
          "output_type": "display_data",
          "data": {
            "image/png": "[encoded data removed]",
            "text/plain": [
              "<Figure size 432x288 with 9 Axes>"
            ]
          },
          "metadata": {
            "tags": [],
            "needs_background": "light"
          }
        }
      ]
    },
    {
      "cell_type": "code",
      "metadata": {
        "id": "UCwGlO40cUze",
        "colab_type": "code",
        "colab": {
          "base_uri": "https://localhost:8080/",
          "height": 314
        },
        "outputId": "4fb7a0ca-8100-469f-8209-7372442a20bd"
      },
      "source": [
        "incorrect_index = np.where(class_predicted!=test_labels)[0]\n",
        "print (\"Found %d incorrect labels\" % len(incorrect_index))\n",
        "for i, incorrect_index in enumerate(incorrect_index[:9]):\n",
        "    plt.subplot(3,3,i+1)\n",
        "    plt.imshow(test_images[incorrect_index].reshape(28,28), cmap='gray', interpolation='none')\n",
        "    plt.title(\"Predicted {}, Class {}\".format(class_predicted[incorrect_index], test_labels[incorrect_index]))\n",
        "    plt.tight_layout()"
      ],
      "execution_count": 211,
      "outputs": [
        {
          "output_type": "stream",
          "text": [
            "Found 1118 incorrect labels\n"
          ],
          "name": "stdout"
        },
        {
          "output_type": "display_data",
          "data": {
            "image/png": "[encoded data removed]",
            "text/plain": [
              "<Figure size 432x288 with 9 Axes>"
            ]
          },
          "metadata": {
            "tags": [],
            "needs_background": "light"
          }
        }
      ]
    },
    {
      "cell_type": "markdown",
      "metadata": {
        "id": "NOe0gcOsdV1h",
        "colab_type": "text"
      },
      "source": [
        "For this part , I have taken reference from : [link](https://www.datacamp.com/community/tutorials/autoencoder-classifier-python)\n"
      ]
    }
  ]
}