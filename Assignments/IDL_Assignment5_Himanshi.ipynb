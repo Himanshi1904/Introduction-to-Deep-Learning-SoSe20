{
  "nbformat": 4,
  "nbformat_minor": 0,
  "metadata": {
    "colab": {
      "name": "IDL_Assignment5_solution.ipynb",
      "provenance": []
    },
    "kernelspec": {
      "name": "python3",
      "display_name": "Python 3"
    },
    "accelerator": "GPU"
  },
  "cells": [
    {
      "cell_type": "markdown",
      "metadata": {
        "id": "n-I81IjanlPQ"
      },
      "source": [
        "GROUP MEMBERS :\n",
        "1.  Aniruddh Shukla \n",
        "2. Gaurav Singhal \n",
        "3. Himanshi Bajaj \n"
      ]
    },
    {
      "cell_type": "markdown",
      "metadata": {
        "id": "kUsvHRjEny_y"
      },
      "source": [
        "# Low-level implementation of a RNN"
      ]
    },
    {
      "cell_type": "code",
      "metadata": {
        "id": "W_1kO2uaCtHy"
      },
      "source": [
        "import tensorflow as tf\n",
        "import numpy as np\n",
        "import os"
      ],
      "execution_count": null,
      "outputs": []
    },
    {
      "cell_type": "code",
      "metadata": {
        "id": "MCv7UQWRHIsy"
      },
      "source": [
        "os.chdir(\"/content/drive/My Drive/Colab Notebooks\")"
      ],
      "execution_count": null,
      "outputs": []
    },
    {
      "cell_type": "code",
      "metadata": {
        "id": "z-Xb66jTH2Ov",
        "colab": {
          "base_uri": "https://localhost:8080/",
          "height": 1000
        },
        "outputId": "134041dc-7c7c-4e32-9b83-8dce2caa7dc7"
      },
      "source": [
        "!python prepare_data.py shakespeare_input.txt skp"
      ],
      "execution_count": null,
      "outputs": [
        {
          "output_type": "stream",
          "text": [
            "2020-05-25 17:19:03.360252: I tensorflow/stream_executor/platform/default/dso_loader.cc:44] Successfully opened dynamic library libcudart.so.10.1\n",
            "Split input into 22981 sequences...\n",
            "Serialized 100 sequences...\n",
            "Serialized 200 sequences...\n",
            "Serialized 300 sequences...\n",
            "Serialized 400 sequences...\n",
            "Serialized 500 sequences...\n",
            "Serialized 600 sequences...\n",
            "Serialized 700 sequences...\n",
            "Serialized 800 sequences...\n",
            "Serialized 900 sequences...\n",
            "Serialized 1000 sequences...\n",
            "Serialized 1100 sequences...\n",
            "Serialized 1200 sequences...\n",
            "Serialized 1300 sequences...\n",
            "Serialized 1400 sequences...\n",
            "Serialized 1500 sequences...\n",
            "Serialized 1600 sequences...\n",
            "Serialized 1700 sequences...\n",
            "Serialized 1800 sequences...\n",
            "Serialized 1900 sequences...\n",
            "Serialized 2000 sequences...\n",
            "Serialized 2100 sequences...\n",
            "Serialized 2200 sequences...\n",
            "Serialized 2300 sequences...\n",
            "Serialized 2400 sequences...\n",
            "Serialized 2500 sequences...\n",
            "Serialized 2600 sequences...\n",
            "Serialized 2700 sequences...\n",
            "Serialized 2800 sequences...\n",
            "Serialized 2900 sequences...\n",
            "Serialized 3000 sequences...\n",
            "Serialized 3100 sequences...\n",
            "Serialized 3200 sequences...\n",
            "Serialized 3300 sequences...\n",
            "Serialized 3400 sequences...\n",
            "Serialized 3500 sequences...\n",
            "Serialized 3600 sequences...\n",
            "Serialized 3700 sequences...\n",
            "Serialized 3800 sequences...\n",
            "Serialized 3900 sequences...\n",
            "Serialized 4000 sequences...\n",
            "Serialized 4100 sequences...\n",
            "Serialized 4200 sequences...\n",
            "Serialized 4300 sequences...\n",
            "Serialized 4400 sequences...\n",
            "Serialized 4500 sequences...\n",
            "Serialized 4600 sequences...\n",
            "Serialized 4700 sequences...\n",
            "Serialized 4800 sequences...\n",
            "Serialized 4900 sequences...\n",
            "Serialized 5000 sequences...\n",
            "Serialized 5100 sequences...\n",
            "Serialized 5200 sequences...\n",
            "Serialized 5300 sequences...\n",
            "Serialized 5400 sequences...\n",
            "Serialized 5500 sequences...\n",
            "Serialized 5600 sequences...\n",
            "Serialized 5700 sequences...\n",
            "Serialized 5800 sequences...\n",
            "Serialized 5900 sequences...\n",
            "Serialized 6000 sequences...\n",
            "Serialized 6100 sequences...\n",
            "Serialized 6200 sequences...\n",
            "Serialized 6300 sequences...\n",
            "Serialized 6400 sequences...\n",
            "Serialized 6500 sequences...\n",
            "Serialized 6600 sequences...\n",
            "Serialized 6700 sequences...\n",
            "Serialized 6800 sequences...\n",
            "Serialized 6900 sequences...\n",
            "Serialized 7000 sequences...\n",
            "Serialized 7100 sequences...\n",
            "Serialized 7200 sequences...\n",
            "Serialized 7300 sequences...\n",
            "Serialized 7400 sequences...\n",
            "Serialized 7500 sequences...\n",
            "Serialized 7600 sequences...\n",
            "Serialized 7700 sequences...\n",
            "Serialized 7800 sequences...\n",
            "Serialized 7900 sequences...\n",
            "Serialized 8000 sequences...\n",
            "Serialized 8100 sequences...\n",
            "Serialized 8200 sequences...\n",
            "Serialized 8300 sequences...\n",
            "Serialized 8400 sequences...\n",
            "Serialized 8500 sequences...\n",
            "Serialized 8600 sequences...\n",
            "Serialized 8700 sequences...\n",
            "Serialized 8800 sequences...\n",
            "Serialized 8900 sequences...\n",
            "Serialized 9000 sequences...\n",
            "Serialized 9100 sequences...\n",
            "Serialized 9200 sequences...\n",
            "Serialized 9300 sequences...\n",
            "Serialized 9400 sequences...\n",
            "Serialized 9500 sequences...\n",
            "Serialized 9600 sequences...\n",
            "Serialized 9700 sequences...\n",
            "Serialized 9800 sequences...\n",
            "Serialized 9900 sequences...\n",
            "Serialized 10000 sequences...\n",
            "Serialized 10100 sequences...\n",
            "Serialized 10200 sequences...\n",
            "Serialized 10300 sequences...\n",
            "Serialized 10400 sequences...\n",
            "Serialized 10500 sequences...\n",
            "Serialized 10600 sequences...\n",
            "Serialized 10700 sequences...\n",
            "Serialized 10800 sequences...\n",
            "Serialized 10900 sequences...\n",
            "Serialized 11000 sequences...\n",
            "Serialized 11100 sequences...\n",
            "Serialized 11200 sequences...\n",
            "Serialized 11300 sequences...\n",
            "Serialized 11400 sequences...\n",
            "Serialized 11500 sequences...\n",
            "Serialized 11600 sequences...\n",
            "Serialized 11700 sequences...\n",
            "Serialized 11800 sequences...\n",
            "Serialized 11900 sequences...\n",
            "Serialized 12000 sequences...\n",
            "Serialized 12100 sequences...\n",
            "Serialized 12200 sequences...\n",
            "Serialized 12300 sequences...\n",
            "Serialized 12400 sequences...\n",
            "Serialized 12500 sequences...\n",
            "Serialized 12600 sequences...\n",
            "Serialized 12700 sequences...\n",
            "Serialized 12800 sequences...\n",
            "Serialized 12900 sequences...\n",
            "Serialized 13000 sequences...\n",
            "Serialized 13100 sequences...\n",
            "Serialized 13200 sequences...\n",
            "Serialized 13300 sequences...\n",
            "Serialized 13400 sequences...\n",
            "Serialized 13500 sequences...\n",
            "Serialized 13600 sequences...\n",
            "Serialized 13700 sequences...\n",
            "Serialized 13800 sequences...\n",
            "Serialized 13900 sequences...\n",
            "Serialized 14000 sequences...\n",
            "Serialized 14100 sequences...\n",
            "Serialized 14200 sequences...\n",
            "Serialized 14300 sequences...\n",
            "Serialized 14400 sequences...\n",
            "Serialized 14500 sequences...\n",
            "Serialized 14600 sequences...\n",
            "Serialized 14700 sequences...\n",
            "Serialized 14800 sequences...\n",
            "Serialized 14900 sequences...\n",
            "Serialized 15000 sequences...\n",
            "Serialized 15100 sequences...\n",
            "Serialized 15200 sequences...\n",
            "Serialized 15300 sequences...\n",
            "Serialized 15400 sequences...\n",
            "Serialized 15500 sequences...\n",
            "Serialized 15600 sequences...\n",
            "Serialized 15700 sequences...\n",
            "Serialized 15800 sequences...\n",
            "Serialized 15900 sequences...\n",
            "Serialized 16000 sequences...\n",
            "Serialized 16100 sequences...\n",
            "Serialized 16200 sequences...\n",
            "Serialized 16300 sequences...\n",
            "Serialized 16400 sequences...\n",
            "Serialized 16500 sequences...\n",
            "Serialized 16600 sequences...\n",
            "Serialized 16700 sequences...\n",
            "Serialized 16800 sequences...\n",
            "Serialized 16900 sequences...\n",
            "Serialized 17000 sequences...\n",
            "Serialized 17100 sequences...\n",
            "Serialized 17200 sequences...\n",
            "Serialized 17300 sequences...\n",
            "Serialized 17400 sequences...\n",
            "Serialized 17500 sequences...\n",
            "Serialized 17600 sequences...\n",
            "Serialized 17700 sequences...\n",
            "Serialized 17800 sequences...\n",
            "Serialized 17900 sequences...\n",
            "Serialized 18000 sequences...\n",
            "Serialized 18100 sequences...\n",
            "Serialized 18200 sequences...\n",
            "Serialized 18300 sequences...\n",
            "Serialized 18400 sequences...\n",
            "Serialized 18500 sequences...\n",
            "Serialized 18600 sequences...\n",
            "Serialized 18700 sequences...\n",
            "Serialized 18800 sequences...\n",
            "Serialized 18900 sequences...\n",
            "Serialized 19000 sequences...\n",
            "Serialized 19100 sequences...\n",
            "Serialized 19200 sequences...\n",
            "Serialized 19300 sequences...\n",
            "Serialized 19400 sequences...\n",
            "Serialized 19500 sequences...\n",
            "Serialized 19600 sequences...\n",
            "Serialized 19700 sequences...\n",
            "Serialized 19800 sequences...\n",
            "Serialized 19900 sequences...\n",
            "Serialized 20000 sequences...\n",
            "Serialized 20100 sequences...\n",
            "Serialized 20200 sequences...\n",
            "Serialized 20300 sequences...\n",
            "Serialized 20400 sequences...\n",
            "Serialized 20500 sequences...\n",
            "Serialized 20600 sequences...\n",
            "Serialized 20700 sequences...\n",
            "Serialized 20800 sequences...\n",
            "Serialized 20900 sequences...\n",
            "Serialized 21000 sequences...\n",
            "Serialized 21100 sequences...\n",
            "Serialized 21200 sequences...\n",
            "Serialized 21300 sequences...\n",
            "Serialized 21400 sequences...\n",
            "Serialized 21500 sequences...\n",
            "Serialized 21600 sequences...\n",
            "Serialized 21700 sequences...\n",
            "Serialized 21800 sequences...\n",
            "Serialized 21900 sequences...\n",
            "Serialized 22000 sequences...\n",
            "Serialized 22100 sequences...\n",
            "Serialized 22200 sequences...\n",
            "Serialized 22300 sequences...\n",
            "Serialized 22400 sequences...\n",
            "Serialized 22500 sequences...\n",
            "Serialized 22600 sequences...\n",
            "Serialized 22700 sequences...\n",
            "Serialized 22800 sequences...\n",
            "Serialized 22900 sequences...\n"
          ],
          "name": "stdout"
        }
      ]
    },
    {
      "cell_type": "code",
      "metadata": {
        "id": "BUKYBjXLNzw6",
        "colab": {
          "base_uri": "https://localhost:8080/",
          "height": 71
        },
        "outputId": "e127f66f-780d-470b-9687-27c5abbb4d0b"
      },
      "source": [
        "from prepare_data import parse_seq\n",
        "import pickle\n",
        "\n",
        "# this is just a datasets of \"bytes\" (not understandable)\n",
        "data = tf.data.TFRecordDataset(\"skp.tfrecords\")\n",
        "\n",
        "# this maps a parser function that properly interprets the bytes over the dataset\n",
        "# (with fixed sequence length 200)\n",
        "# if you change the sequence length in preprocessing you also need to change it here\n",
        "data = data.map(lambda x: parse_seq(x, 200))\n",
        "\n",
        "# a map from characters to indices\n",
        "vocab = pickle.load(open(\"skp_vocab\", mode=\"rb\"))\n",
        "vocab_size = len(vocab)\n",
        "# inverse mapping: indices to characters\n",
        "ind_to_ch = {ind: ch for (ch, ind) in vocab.items()}\n",
        "\n",
        "print(vocab)\n",
        "print(vocab_size)"
      ],
      "execution_count": null,
      "outputs": [
        {
          "output_type": "stream",
          "text": [
            "{'D': 1, 'C': 2, 'c': 3, 'q': 4, '&': 5, 'N': 6, '\\n': 7, 'y': 8, '-': 9, '$': 10, 'F': 11, '!': 12, 'j': 13, '3': 14, 'G': 15, 'S': 16, 'W': 17, 'Z': 18, \"'\": 19, 'B': 20, 's': 21, 'e': 22, 'a': 23, ':': 24, 'z': 25, 'v': 26, 'U': 27, ']': 28, 't': 29, 'x': 30, 'V': 31, 'Q': 32, 'X': 33, 'n': 34, 'b': 35, 'R': 36, 'L': 37, 'r': 38, 'O': 39, 'I': 40, ' ': 41, 'o': 42, 'i': 43, 'g': 44, 'E': 45, 'l': 46, 'J': 47, 'd': 48, 'T': 49, '.': 50, 'w': 51, 'k': 52, 'f': 53, '?': 54, ',': 55, 'H': 56, ';': 57, '[': 58, 'P': 59, 'Y': 60, 'p': 61, 'u': 62, 'A': 63, 'K': 64, 'M': 65, 'm': 66, 'h': 67, '<S>': 0}\n",
            "68\n"
          ],
          "name": "stdout"
        }
      ]
    },
    {
      "cell_type": "code",
      "metadata": {
        "id": "Mu0xCAGsjgTK"
      },
      "source": [
        "def initialization(hidden_units):\n",
        "  # Assuming hidden_units = 512 and Vocab_size = 68\n",
        "  # 512*68 -> Weight b/w input and hidden state \n",
        "  W_xh = tf.Variable(np.random.uniform(size=(hidden_units, vocab_size), low=-.01, high=.01).astype(np.float32), trainable=True)\n",
        "  # 512*512 -> Weight b/w hidden and hidden state\n",
        "  W_hh = tf.Variable(np.random.uniform(size=(hidden_units, hidden_units), low=-.01, high=.01).astype(np.float32), trainable=True)\n",
        "  # 512*68 -> Weight b/w hidden state and output\n",
        "  W_ho = tf.Variable(np.random.uniform(size=(hidden_units,vocab_size), low=-.01, high=.01).astype(np.float32), trainable=True)\n",
        "  \n",
        "  # 512*1 -> Bias for hidden state\n",
        "  b_h = tf.Variable(np.zeros((hidden_units, 1)), dtype=np.float32, trainable=True)\n",
        "  # 1*68 -> Bias for output state\n",
        "  b_o = tf.Variable(np.zeros((1,vocab_size)), dtype=np.float32, trainable=True)\n",
        "\n",
        "  params = {}\n",
        "  params['W_xh'] = W_xh\n",
        "  params['W_hh'] = W_hh\n",
        "  params['W_ho'] = W_ho\n",
        "  params['b_h'] = b_h\n",
        "  params['b_o'] = b_o\n",
        "  return params"
      ],
      "execution_count": null,
      "outputs": []
    },
    {
      "cell_type": "code",
      "metadata": {
        "id": "Zqk-PHFTmMHd"
      },
      "source": [
        "def rnn_cell(h_prev, x_t, params):\n",
        "  W_xh = params['W_xh']\n",
        "  W_hh = params['W_hh']\n",
        "  W_ho = params['W_ho']\n",
        "  b_h = params['b_h']\n",
        "  b_o = params['b_o']\n",
        "\n",
        "  # Use tanh and sigmoid respectively.\n",
        "  m1 = tf.matmul(W_xh, tf.transpose(x_t))\n",
        "  m2 = tf.matmul(W_hh, h_prev)\n",
        "  h_next = tf.tanh(m1 + m2 + b_h)\n",
        "  logits = tf.matmul(tf.transpose(h_next),W_ho) + b_o\n",
        "  out_t = tf.nn.softmax(logits,axis=1)\n",
        "  # print(\"{} x {}\".format(h_next.shape, out_t.shape))\n",
        "  return h_next, logits, out_t "
      ],
      "execution_count": null,
      "outputs": []
    },
    {
      "cell_type": "code",
      "metadata": {
        "id": "UFJ8A3JGvTJE"
      },
      "source": [
        "def loss_function(output,logits):\n",
        "   xent = tf.reduce_mean(tf.nn.sparse_softmax_cross_entropy_with_logits(logits=logits , labels=output))\n",
        "   return xent"
      ],
      "execution_count": null,
      "outputs": []
    },
    {
      "cell_type": "code",
      "metadata": {
        "id": "lr2M-IQrAFWm"
      },
      "source": [
        "def one_hot_encoding(x):\n",
        "  return tf.one_hot(x, depth = vocab_size)"
      ],
      "execution_count": null,
      "outputs": []
    },
    {
      "cell_type": "code",
      "metadata": {
        "id": "rqPwwVseBPiQ",
        "colab": {
          "base_uri": "https://localhost:8080/",
          "height": 34
        },
        "outputId": "d5f25435-fe6d-4d76-b2a8-85942cef27fc"
      },
      "source": [
        "BATCH_SIZE = 128\n",
        "one_hot_encoded_data = data.map(one_hot_encoding)\n",
        "train_data = one_hot_encoded_data.batch(batch_size=BATCH_SIZE,drop_remainder=True)\n",
        "for x in train_data:\n",
        "  print(x.shape)\n",
        "  break"
      ],
      "execution_count": null,
      "outputs": [
        {
          "output_type": "stream",
          "text": [
            "(128, 200, 68)\n"
          ],
          "name": "stdout"
        }
      ]
    },
    {
      "cell_type": "code",
      "metadata": {
        "id": "e-7GCTC7DtYQ",
        "colab": {
          "base_uri": "https://localhost:8080/",
          "height": 34
        },
        "outputId": "3f1bee74-3f6b-4bd0-9fec-96147f24b8a3"
      },
      "source": [
        "label_data = data.batch(batch_size=BATCH_SIZE,drop_remainder=True)\n",
        "for y in label_data:\n",
        "  print(y.shape)\n",
        "  break"
      ],
      "execution_count": null,
      "outputs": [
        {
          "output_type": "stream",
          "text": [
            "(128, 200)\n"
          ],
          "name": "stdout"
        }
      ]
    },
    {
      "cell_type": "code",
      "metadata": {
        "id": "2Gad9Pp9E9qj"
      },
      "source": [
        "def model_execution(epochs, params, optimizer,train_data,label_data):\n",
        "  h_o =  tf.zeros((params['W_hh'].shape[0],BATCH_SIZE))\n",
        "  for epoch in range(epochs):\n",
        "    for (x_batch,y_batch) in zip(train_data,label_data):\n",
        "      loss_per_batch = []\n",
        "      with tf.GradientTape() as tape:\n",
        "        for time_step in range(199):\n",
        "          # coverting data into 128*68\n",
        "          x_pass = x_batch[:,time_step,:]\n",
        "          # 128\n",
        "          label_pass = y_batch[:,time_step+1]\n",
        "\n",
        "          h_next, logits, out_train = rnn_cell(h_o,x_pass,params)\n",
        "         \n",
        "          loss_in_each_time_step = loss_function(label_pass,logits)\n",
        "          loss_per_batch.append(loss_in_each_time_step)\n",
        "\n",
        "          h_o = h_next\n",
        "          \n",
        "          \n",
        "        average_loss = tf.math.reduce_mean(loss_per_batch)\n",
        "      grads = tape.gradient(average_loss, list(params.values()))\n",
        "      optimizer.apply_gradients(zip(grads, list(params.values())))\n",
        "    print(\"Epoch: {}, Loss: {}\".format(epoch, average_loss))\n"
      ],
      "execution_count": null,
      "outputs": []
    },
    {
      "cell_type": "code",
      "metadata": {
        "id": "7hj87Ag8_5-M",
        "colab": {
          "base_uri": "https://localhost:8080/",
          "height": 714
        },
        "outputId": "ab0332bf-4122-4963-e2d7-7d4ede8f7eda"
      },
      "source": [
        "# Hyper-parameters\n",
        "hidden_units = 512\n",
        "epochs = 40\n",
        "learning_rate = 0.001\n",
        "\n",
        "# Getting initialization parameters\n",
        "params = initialization(hidden_units)\n",
        "# Optimizer\n",
        "optimizer = tf.keras.optimizers.Adam(learning_rate=learning_rate)\n",
        "model_execution(epochs, params, optimizer,train_data,label_data)"
      ],
      "execution_count": null,
      "outputs": [
        {
          "output_type": "stream",
          "text": [
            "hi from params\n",
            "Epoch: 0, Loss: 3.100139617919922\n",
            "Epoch: 1, Loss: 2.5197675228118896\n",
            "Epoch: 2, Loss: 2.278074264526367\n",
            "Epoch: 3, Loss: 2.137728691101074\n",
            "Epoch: 4, Loss: 2.046231746673584\n",
            "Epoch: 5, Loss: 1.968592643737793\n",
            "Epoch: 6, Loss: 1.9000571966171265\n",
            "Epoch: 7, Loss: 1.8412927389144897\n",
            "Epoch: 8, Loss: 1.7882169485092163\n",
            "Epoch: 9, Loss: 1.7419979572296143\n",
            "Epoch: 10, Loss: 1.7049269676208496\n",
            "Epoch: 11, Loss: 1.6690196990966797\n",
            "Epoch: 12, Loss: 1.6418002843856812\n",
            "Epoch: 13, Loss: 1.6147176027297974\n",
            "Epoch: 14, Loss: 1.5906462669372559\n",
            "Epoch: 15, Loss: 1.5802345275878906\n",
            "Epoch: 16, Loss: 1.5607959032058716\n",
            "Epoch: 17, Loss: 1.5389306545257568\n",
            "Epoch: 18, Loss: 1.518274188041687\n",
            "Epoch: 19, Loss: 1.5056853294372559\n",
            "Epoch: 20, Loss: 1.4942318201065063\n",
            "Epoch: 21, Loss: 1.4834010601043701\n",
            "Epoch: 22, Loss: 1.4771897792816162\n",
            "Epoch: 23, Loss: 1.4641773700714111\n",
            "Epoch: 24, Loss: 1.4565809965133667\n",
            "Epoch: 25, Loss: 1.448169469833374\n",
            "Epoch: 26, Loss: 1.442571997642517\n",
            "Epoch: 27, Loss: 1.4366518259048462\n",
            "Epoch: 28, Loss: 1.4294846057891846\n",
            "Epoch: 29, Loss: 1.4247097969055176\n",
            "Epoch: 30, Loss: 1.4171711206436157\n",
            "Epoch: 31, Loss: 1.4124735593795776\n",
            "Epoch: 32, Loss: 1.4082156419754028\n",
            "Epoch: 33, Loss: 1.4050811529159546\n",
            "Epoch: 34, Loss: 1.4036320447921753\n",
            "Epoch: 35, Loss: 1.3995482921600342\n",
            "Epoch: 36, Loss: 1.3931858539581299\n",
            "Epoch: 37, Loss: 1.3954858779907227\n",
            "Epoch: 38, Loss: 1.387471318244934\n",
            "Epoch: 39, Loss: 1.3831030130386353\n"
          ],
          "name": "stdout"
        }
      ]
    },
    {
      "cell_type": "markdown",
      "metadata": {
        "id": "EMqFfCIhov_Q"
      },
      "source": [
        "# Saving Parameters"
      ]
    },
    {
      "cell_type": "code",
      "metadata": {
        "id": "mcwgqcB1o2eS"
      },
      "source": [
        "# Saving data in Pickle to save model\n",
        "with open('assignment5_params', 'wb') as handle:\n",
        "    pickle.dump(params, handle, protocol=pickle.HIGHEST_PROTOCOL)"
      ],
      "execution_count": null,
      "outputs": []
    },
    {
      "cell_type": "markdown",
      "metadata": {
        "id": "LHL6LiCFo60L"
      },
      "source": [
        "# Loading saved parameters"
      ]
    },
    {
      "cell_type": "code",
      "metadata": {
        "id": "lhY-002Po_rk"
      },
      "source": [
        "import pickle\n",
        "loaded_model = pickle.load(open(\"assignment5_params\", 'rb'))"
      ],
      "execution_count": null,
      "outputs": []
    },
    {
      "cell_type": "markdown",
      "metadata": {
        "id": "a7HfVguaoio7"
      },
      "source": [
        "# Generating Language"
      ]
    },
    {
      "cell_type": "code",
      "metadata": {
        "id": "wfRPT2a2Vq82"
      },
      "source": [
        "# assigning saved parameters \n",
        "parameters = {}\n",
        "parameters['W_xh'] = loaded_model['W_xh']\n",
        "parameters['W_hh'] = loaded_model['W_hh']\n",
        "parameters['W_ho'] = loaded_model['W_ho']\n",
        "parameters['b_h'] = loaded_model['b_h']\n",
        "parameters['b_o'] = loaded_model['b_o']"
      ],
      "execution_count": null,
      "outputs": []
    },
    {
      "cell_type": "code",
      "metadata": {
        "id": "z10LHFDmJgSl",
        "colab": {
          "base_uri": "https://localhost:8080/",
          "height": 34
        },
        "outputId": "91d93c92-481a-4a1b-9dbd-f50b14cc7f8e"
      },
      "source": [
        "ch = 't'  \n",
        "i = 0\n",
        "for key,val in vocab.items():\n",
        "  if key == ch:\n",
        "    i = val\n",
        "# print(i)\n",
        "# convert to one hot vector\n",
        "input_ch = tf.one_hot(i,depth=vocab_size)\n",
        "input_ch = tf.expand_dims(input_ch,axis=1)\n",
        "input_ch = tf.transpose(input_ch)\n",
        "print(input_ch.shape,W_xh.shape)"
      ],
      "execution_count": null,
      "outputs": [
        {
          "output_type": "stream",
          "text": [
            "(1, 68) (512, 68)\n"
          ],
          "name": "stdout"
        }
      ]
    },
    {
      "cell_type": "code",
      "metadata": {
        "id": "5o8bi3UdJ_Hp"
      },
      "source": [
        "h_n =  tf.zeros((parameters['W_hh'].shape[0], 1))\n",
        "character_index_list = [i]\n",
        "for time_step in range(200):\n",
        "     h_next, logits, out_t = rnn_cell(h_n, input_ch, parameters)\n",
        "    #  print(out_t)\n",
        "     output_ch = tf.one_hot(tf.math.argmax(out_t,axis=1),depth=68)\n",
        "     h_n = h_next\n",
        "     input_ch = output_ch\n",
        "     index_value = tf.math.argmax(out_t,axis=1)\n",
        "     character_index_list.append(index_value.numpy()[0])\n",
        "# character_index_list"
      ],
      "execution_count": null,
      "outputs": []
    },
    {
      "cell_type": "code",
      "metadata": {
        "id": "x-4D2V7jpNbA",
        "colab": {
          "base_uri": "https://localhost:8080/",
          "height": 136
        },
        "outputId": "ff41f9e5-d87f-42a2-8007-92c082e71566"
      },
      "source": [
        "seq = [ind_to_ch[ind] for ind in character_index_list]\n",
        "print(\"\".join(seq))"
      ],
      "execution_count": null,
      "outputs": [
        {
          "output_type": "stream",
          "text": [
            "the hath stand a cardinal,\n",
            "And there is no more than the world to the court,\n",
            "And the better than the world to the court.\n",
            "\n",
            "SIR TOBY BELCH:\n",
            "And there is no more than the world to the court,\n",
            "And the bette\n"
          ],
          "name": "stdout"
        }
      ]
    }
  ]
}